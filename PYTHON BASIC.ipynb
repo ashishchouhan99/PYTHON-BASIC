{
  "nbformat": 4,
  "nbformat_minor": 0,
  "metadata": {
    "colab": {
      "provenance": []
    },
    "kernelspec": {
      "name": "python3",
      "display_name": "Python 3"
    },
    "language_info": {
      "name": "python"
    }
  },
  "cells": [
    {
      "cell_type": "markdown",
      "source": [
        "#PYTHON BASIC"
      ],
      "metadata": {
        "id": "nogPjTrki4TT"
      }
    },
    {
      "cell_type": "markdown",
      "source": [
        "1. What is Python, and why is it popular\n",
        "  - asgadghahgd\n"
      ],
      "metadata": {
        "id": "bkSndB27i94X"
      }
    },
    {
      "cell_type": "code",
      "source": [
        "#1 Write a Python program to print \"Hello, World!_\n",
        "print(\"Hello, World!\")"
      ],
      "metadata": {
        "id": "qZfrr1XUi7_P"
      },
      "execution_count": null,
      "outputs": []
    },
    {
      "cell_type": "code",
      "source": [
        "#2"
      ],
      "metadata": {
        "id": "iFP_0eu6jQRe"
      },
      "execution_count": null,
      "outputs": []
    }
  ]
}